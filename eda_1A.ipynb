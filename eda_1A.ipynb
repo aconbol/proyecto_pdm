{
 "cells": [
  {
   "cell_type": "markdown",
   "metadata": {},
   "source": [
    "# Análisis Exploratorio de Datos (EDA) para Mantenimiento Predictivo del Motocompresor C-5080\n",
    "\n",
    "**Objetivo:** Realizar un análisis exhaustivo de los datos de sensores y del historial de fallas del motocompresor C-5080 para identificar patrones, anomalías y correlaciones que sirvan como base para desarrollar un modelo de mantenimiento predictivo.\n",
    "\n",
    "**Autor:** [Tu Nombre]\n",
    "**Fecha:** [Fecha Actual]\n",
    "**Curso:** Proyecto de Grado"
   ]
  },
  {
   "cell_type": "markdown",
   "metadata": {},
   "source": [
    "## 0. Importación de Librerías\n",
    "\n",
    "Importamos las librerías necesarias para el análisis de datos y la visualización."
   ]
  },
  {
   "cell_type": "code",
   "execution_count": 1,
   "metadata": {},
   "outputs": [],
   "source": [
    "import pandas as pd\n",
    "import numpy as np\n",
    "import matplotlib.pyplot as plt\n",
    "import seaborn as sns\n",
    "\n",
    "# Configuración de estilos para los gráficos\n",
    "sns.set_theme(style=\"whitegrid\")\n",
    "plt.rcParams['figure.figsize'] = (16, 8)"
   ]
  },
  {
   "cell_type": "markdown",
   "metadata": {},
   "source": [
    "## 1. Carga e Inspección Inicial de Datos\n",
    "\n",
    "Cargamos los archivos CSV proporcionados. Los datos de sensores se consolidan en un único DataFrame y se realiza una primera inspección para entender su estructura y contenido."
   ]
  },
  {
   "cell_type": "code",
   "execution_count": null,
   "metadata": {},
   "outputs": [],
   "source": [
    "# --- ¡IMPORTANTE! Reemplaza estas rutas con la ubicación real de tus archivos ---\n",
    "paths_sensores = [\n",
    "    '01-2024.xls - Compresor #1.csv',\n",
    "    '04-2025.xls - Compresor #1.csv',\n",
    "    '8-2023...xls - Compresor #1.csv'\n",
    "]\n",
    "path_fallas = 'Historial C1 RGD.xlsx - Table 1.csv'\n",
    "# --------------------------------------------------------------------------------\n",
    "\n",
    "try:\n",
    "    # Cargar y concatenar datos de sensores, omitiendo las primeras filas de metadatos\n",
    "    lista_df_sensores = [pd.read_csv(p, skiprows=4) for p in paths_sensores]\n",
    "    df_sensores = pd.concat(lista_df_sensores, ignore_index=True)\n",
    "\n",
    "    # Cargar historial de fallas\n",
    "    df_fallas = pd.read_csv(path_fallas, skiprows=3)\n",
    "    print(\"✅ Archivos cargados exitosamente.\")\n",
    "except FileNotFoundError as e:\n",
    "    print(f\"❌ Error: Archivo no encontrado. Verifica las rutas. Detalle: {e}\")\n",
    "\n",
    "print(\"\\n--- Inspección del DataFrame de Sensores ---\")\n",
    "df_sensores.info()\n",
    "print(\"\\nPrimeras filas de datos de Sensores:\")\n",
    "display(df_sensores.head())\n",
    "\n",
    "print(\"\\n--- Inspección del DataFrame de Fallas ---\")\n",
    "df_fallas.info()\n",
    "print(\"\\nPrimeras filas de datos de Fallas:\")\n",
    "display(df_fallas.head())"
   ]
  },
  {
   "cell_type": "markdown",
   "metadata": {},
   "source": [
    "## 2. Limpieza y Preprocesamiento de Datos\n",
    "\n",
    "La calidad de los datos es fundamental. En este paso, convertimos las columnas de fecha a un formato adecuado, manejamos los valores faltantes y eliminamos inconsistencias."
   ]
  },
  {
   "cell_type": "code",
   "execution_count": null,
   "metadata": {},
   "outputs": [],
   "source": [
    "# --- Preprocesamiento de df_sensores ---\n",
    "# Renombrar columnas para facilitar el acceso\n",
    "df_sensores.columns = [col.replace('\\n', ' ').strip() for col in df_sensores.columns]\n",
    "\n",
    "# Convertir 'Hora' a datetime. El formato numérico de Excel se interpreta como días desde 1899-12-30.\n",
    "df_sensores['Timestamp'] = pd.to_datetime(df_sensores['Hora'], unit='d', origin='1899-12-30', errors='coerce')\n",
    "df_sensores = df_sensores.drop(columns=['Hora', 'ESTADO'])\n",
    "df_sensores = df_sensores.sort_values('Timestamp').reset_index(drop=True)\n",
    "\n",
    "# Manejo de valores faltantes\n",
    "print(f\"Valores faltantes antes de la limpieza: {df_sensores.isnull().sum().sum()}\")\n",
    "# Usamos interpolación lineal, adecuada para series temporales\n",
    "df_sensores.interpolate(method='linear', limit_direction='forward', inplace=True)\n",
    "df_sensores.dropna(inplace=True) # Eliminar filas que no se pudieron interpolar (ej. al inicio)\n",
    "print(f\"Valores faltantes después de la limpieza: {df_sensores.isnull().sum().sum()}\")\n",
    "\n",
    "# --- Preprocesamiento de df_fallas ---\n",
    "df_fallas.rename(columns={'FECHA INICIO': 'Fecha_Inicio', 'FECHA FIN': 'Fecha_Fin'}, inplace=True)\n",
    "df_fallas['Fecha_Inicio'] = pd.to_datetime(df_fallas['Fecha_Inicio'], dayfirst=True, errors='coerce')\n",
    "df_fallas['Fecha_Fin'] = pd.to_datetime(df_fallas['Fecha_Fin'], dayfirst=True, errors='coerce')\n",
    "df_fallas.dropna(subset=['Fecha_Inicio'], inplace=True)\n",
    "\n",
    "print(\"\\n✅ Preprocesamiento completado.\")"
   ]
  },
  {
   "cell_type": "markdown",
   "metadata": {},
   "source": [
    "## 3. Análisis Estadístico Descriptivo\n",
    "\n",
    "Obtenemos un resumen cuantitativo de las variables numéricas para entender sus tendencias centrales y dispersión."
   ]
  },
  {
   "cell_type": "code",
   "execution_count": null,
   "metadata": {},
   "outputs": [],
   "source": [
    "print(\"--- Resumen Estadístico de las Variables de Sensores ---\")\n",
    "display(df_sensores.describe().T)"
   ]
  },
  {
   "cell_type": "markdown",
   "metadata": {},
   "source": [
    "## 4. Análisis Univariado\n",
    "\n",
    "Visualizamos la distribución de las variables más críticas para identificar su forma, sesgo y la presencia de valores atípicos."
   ]
  },
  {
   "cell_type": "code",
   "execution_count": null,
   "metadata": {},
   "outputs": [],
   "source": [
    "variables_criticas = [\n",
    "    'RPM',\n",
    "    'Presión Descarga',\n",
    "    'Pres. Aceite Comp',\n",
    "    'Temp. Cilindro # 1',\n",
    "    'Temp. Cilindro # 2',\n",
    "    'Temp. Cilindro # 3',\n",
    "    'Temp. Cilindro # 4',\n",
    "    'Presión Aceite Motor',\n",
    "    'Temp. Aceite Motor',\n",
    "    'Temp. Agua Motor'\n",
    "]\n",
    "\n",
    "for var in variables_criticas:\n",
    "    if var in df_sensores.columns:\n",
    "        plt.figure(figsize=(18, 6))\n",
    "        \n",
    "        # Histograma y KDE\n",
    "        plt.subplot(1, 2, 1)\n",
    "        sns.histplot(df_sensores[var], kde=True, bins=50)\n",
    "        plt.title(f'Distribución de {var}')\n",
    "        plt.xlabel(var)\n",
    "        plt.ylabel('Frecuencia')\n",
    "        \n",
    "        # Gráfico de Caja\n",
    "        plt.subplot(1, 2, 2)\n",
    "        sns.boxplot(x=df_sensores[var])\n",
    "        plt.title(f'Gráfico de Caja de {var}')\n",
    "        plt.xlabel(var)\n",
    "        \n",
    "        plt.tight_layout()\n",
    "        plt.show()\n",
    "        print(f\"Interpretación para {var}: La media es {df_sensores[var].mean():.2f} y la desviación estándar es {df_sensores[var].std():.2f}. El gráfico de caja muestra la presencia de outliers [arriba/abajo/ambos].\")\n",
    "        print(\"-\"*80)"
   ]
  },
  {
   "cell_type": "markdown",
   "metadata": {},
   "source": [
    "## 5. Análisis Bivariado y Multivariado\n",
    "\n",
    "Investigamos las relaciones entre pares de variables para descubrir dependencias que puedan ser clave para la predicción de fallas."
   ]
  },
  {
   "cell_type": "code",
   "execution_count": null,
   "metadata": {},
   "outputs": [],
   "source": [
    "# Matriz de Correlación\n",
    "correlation_matrix = df_sensores[variables_criticas].corr()\n",
    "\n",
    "plt.figure(figsize=(12, 10))\n",
    "sns.heatmap(correlation_matrix, annot=True, cmap='coolwarm', fmt='.2f')\n",
    "plt.title('Mapa de Calor de Correlación entre Variables Críticas')\n",
    "plt.show()\n",
    "\n",
    "print(\"Interpretación: El mapa de calor muestra las correlaciones de Pearson. Valores cercanos a 1 (rojo oscuro) indican una fuerte correlación positiva, mientras que valores cercanos a -1 (azul oscuro) indican una fuerte correlación negativa. Valores cercanos a 0 (blanco) sugieren poca o ninguna correlación lineal.\")"
   ]
  },
  {
   "cell_type": "code",
   "execution_count": null,
   "metadata": {},
   "outputs": [],
   "source": [
    "# Gráficos de Dispersión para pares altamente correlacionados\n",
    "print(\"\\n--- Gráficos de Dispersión ---\")\n",
    "sns.scatterplot(data=df_sensores, x='RPM', y='Presión Descarga')\n",
    "plt.title('RPM vs. Presión de Descarga')\n",
    "plt.show()\n",
    "print(\"Interpretación: Se observa la relación entre las RPM y la presión de descarga. Un patrón claro puede indicar una fuerte dependencia funcional.\")\n",
    "\n",
    "sns.scatterplot(data=df_sensores, x='Temp. Aceite Motor', y='Temp. Agua Motor')\n",
    "plt.title('Temperatura del Aceite vs. Temperatura del Agua del Motor')\n",
    "plt.show()\n",
    "print(\"Interpretación: Ambas temperaturas deberían estar correlacionadas, ya que el sistema de enfriamiento afecta a ambos fluidos.\")"
   ]
  },
  {
   "cell_type": "markdown",
   "metadata": {},
   "source": [
    "## 6. Análisis de Series Temporales\n",
    "\n",
    "Visualizamos la evolución de las variables a lo largo del tiempo para detectar tendencias, estacionalidades o cambios abruptos."
   ]
  },
  {
   "cell_type": "code",
   "execution_count": null,
   "metadata": {},
   "outputs": [],
   "source": [
    "df_sensores_resampled = df_sensores.set_index('Timestamp').resample('D').mean().reset_index()\n",
    "\n",
    "plt.figure(figsize=(20, 8))\n",
    "plt.plot(df_sensores_resampled['Timestamp'], df_sensores_resampled['RPM'], label='RPM Promedio Diario')\n",
    "plt.title('Evolución de las RPM a lo largo del Tiempo (Promedio Diario)')\n",
    "plt.xlabel('Fecha')\n",
    "plt.ylabel('RPM')\n",
    "plt.legend()\n",
    "plt.show()\n",
    "\n",
    "plt.figure(figsize=(20, 8))\n",
    "plt.plot(df_sensores_resampled['Timestamp'], df_sensores_resampled['Temp. Aceite Motor'], label='Temp. Aceite Motor', color='orange')\n",
    "plt.plot(df_sensores_resampled['Timestamp'], df_sensores_resampled['Temp. Agua Motor'], label='Temp. Agua Motor', color='blue')\n",
    "plt.title('Evolución de las Temperaturas del Motor (Promedio Diario)')\n",
    "plt.xlabel('Fecha')\n",
    "plt.ylabel('Temperatura (°F)')\n",
    "plt.legend()\n",
    "plt.show()"
   ]
  },
  {
   "cell_type": "markdown",
   "metadata": {},
   "source": [
    "## 7. Análisis de Fallas (Integración de Datasets)\n",
    "\n",
    "Este es el paso más importante. Cruzamos los datos de fallas con los datos de sensores para buscar patrones que puedan predecir un evento adverso."
   ]
  },
  {
   "cell_type": "code",
   "execution_count": null,
   "metadata": {},
   "outputs": [],
   "source": [
    "df_sensores_ts = df_sensores.set_index('Timestamp')\n",
    "\n",
    "# Seleccionar una falla específica para analizar\n",
    "# Ejemplo: Analicemos la primera falla documentada\n",
    "if not df_fallas.empty:\n",
    "    falla_ejemplo = df_fallas.iloc[0]\n",
    "    fecha_falla = falla_ejemplo['Fecha_Inicio']\n",
    "    descripcion_falla = falla_ejemplo['DESCRIPCION']\n",
    "\n",
    "    print(f\"Analizando la falla: '{descripcion_falla}' ocurrida el {fecha_falla.date()}\\n\")\n",
    "\n",
    "    # Definir la ventana de tiempo para el análisis (ej. 48 horas antes de la falla)\n",
    "    ventana_inicio = fecha_falla - pd.Timedelta(hours=48)\n",
    "    ventana_fin = fecha_falla\n",
    "\n",
    "    # Filtrar los datos de sensores en esa ventana\n",
    "    datos_pre_falla = df_sensores_ts.loc[ventana_inicio:ventana_fin]\n",
    "\n",
    "    if not datos_pre_falla.empty:\n",
    "        # Graficar una variable crítica antes de la falla\n",
    "        var_a_analizar = 'Presión Aceite Motor'\n",
    "        plt.figure(figsize=(20, 8))\n",
    "        plt.plot(datos_pre_falla.index, datos_pre_falla[var_a_analizar], marker='o', linestyle='-', label=f'{var_a_analizar} antes de la falla')\n",
    "        plt.axvline(fecha_falla, color='red', linestyle='--', lw=2, label=f'Momento de la Falla: {descripcion_falla}')\n",
    "        plt.title(f'Comportamiento de {var_a_analizar} en las 48h previas a la falla')\n",
    "        plt.xlabel('Fecha y Hora')\n",
    "        plt.ylabel(var_a_analizar)\n",
    "        plt.legend()\n",
    "        plt.show()\n",
    "        print(f\"Interpretación: Este gráfico muestra si la variable '{var_a_analizar}' tuvo un comportamiento anómalo (tendencia, pico, caída) justo antes del evento. Esto podría ser un indicador predictivo.\")\n",
    "    else:\n",
    "        print(f\"No se encontraron datos de sensores en la ventana de 48 horas antes de la falla del {fecha_falla.date()}\")\n",
    "else:\n",
    "    print(\"El dataframe de fallas está vacío. No se puede realizar el análisis de fallas.\")"
   ]
  },
  {
   "cell_type": "markdown",
   "metadata": {},
   "source": [
    "## 8. Síntesis y Conclusiones del EDA\n",
    "\n",
    "Aquí resumimos los hallazgos clave y proponemos los siguientes pasos para el proyecto de grado."
   ]
  },
  {
   "cell_type": "markdown",
   "metadata": {},
   "source": [
    "### Hallazgos Principales:\n",
    "1.  **Calidad de los Datos:** Los datos de sensores requieren una limpieza inicial, especialmente en el manejo de fechas y la interpolación de valores faltantes para crear una serie temporal continua.\n",
    "2.  **Correlaciones Clave:** Se identificaron fuertes correlaciones entre [Mencionar un par de variables, ej., RPM y Temperatura de Descarga] y [Mencionar otro par]. Estas relaciones son lógicas desde un punto de vista mecánico y serán fundamentales para la ingeniería de características.\n",
    "3.  **Distribuciones y Outliers:** Variables como [Mencionar una variable] muestran una distribución [normal/sesgada], mientras que [Mencionar otra variable] presenta una cantidad significativa de outliers que deben ser investigados. Podrían representar mediciones erróneas o verdaderos eventos anómalos.\n",
    "4.  **Patrones Precursores de Fallas:** El análisis de la ventana de tiempo previa a la falla de [Mencionar falla analizada] mostró un comportamiento anómalo en la variable [Mencionar variable analizada], sugiriendo que es un fuerte candidato para ser un indicador predictivo.\n",
    "\n",
    "### Recomendaciones y Siguientes Pasos:\n",
    "1.  **Ingeniería de Características (Feature Engineering):**\n",
    "    * Crear características de ventana deslizante (ej., media móvil, desviación estándar móvil en ventanas de 1, 6 y 12 horas) para capturar tendencias a corto plazo.\n",
    "    * Generar variables de interacción basadas en las correlaciones encontradas (ej., ratio `Presión Descarga / RPM`).\n",
    "    * Crear características de retardo (lag features) para usar valores pasados como predictores.\n",
    "2.  **Etiquetado de Datos para Modelado:**\n",
    "    * Definir una ventana de tiempo antes de cada falla (ej., 24 horas) y etiquetar todos los puntos de datos dentro de esa ventana como \"pre-falla\" (1) y el resto como \"normal\" (0). Esto creará el objetivo para un modelo de clasificación binaria.\n",
    "3.  **Modelado de Machine Learning:**\n",
    "    * Comenzar con modelos de clasificación robustos como `Random Forest` o `Gradient Boosting (XGBoost)` para predecir la probabilidad de una falla inminente.\n",
    "    * Utilizar las métricas de evaluación adecuadas para problemas desbalanceados (Precision, Recall, F1-Score, AUC-ROC) ya que los eventos de falla serán mucho menos frecuentes que la operación normal."
   ]
  }
 ],
 "metadata": {
  "kernelspec": {
   "display_name": ".venv",
   "language": "python",
   "name": "python3"
  },
  "language_info": {
   "codemirror_mode": {
    "name": "ipython",
    "version": 3
   },
   "file_extension": ".py",
   "mimetype": "text/x-python",
   "name": "python",
   "nbconvert_exporter": "python",
   "pygments_lexer": "ipython3",
   "version": "3.12.3"
  }
 },
 "nbformat": 4,
 "nbformat_minor": 4
}
